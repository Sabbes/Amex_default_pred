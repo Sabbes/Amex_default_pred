{
 "cells": [
  {
   "cell_type": "code",
   "execution_count": 1,
   "id": "2842fa29",
   "metadata": {},
   "outputs": [],
   "source": [
    "#Turns csv files from the Kaggle website into parquet files\n",
    "#Expects filepath of csv to be\n",
    "#..\\Project\\amex-default-prediction\\*.csv\n",
    "#Puts parquet files in the filepath\n",
    "#..\\Project\\data\\*.parquet"
   ]
  },
  {
   "cell_type": "code",
   "execution_count": 13,
   "id": "2d9c389a",
   "metadata": {},
   "outputs": [],
   "source": [
    "import pandas as pd\n",
    "import numpy as np\n",
    "import pyarrow as pa\n",
    "import pyarrow.parquet as pq\n",
    "import os "
   ]
  },
  {
   "cell_type": "code",
   "execution_count": 23,
   "id": "1efdedef",
   "metadata": {},
   "outputs": [],
   "source": [
    "# csv_to_parquet.py\n",
    "def csv_to_parquet (csv_file, parquet_file):\n",
    "    chunksize = 100_000\n",
    "\n",
    "    csv_stream = pd.read_csv(csv_file, sep='\\t', chunksize=chunksize, low_memory=False)\n",
    "\n",
    "    for i, chunk in enumerate(csv_stream):\n",
    "        print(\"Chunk\", i)\n",
    "        if i == 0:\n",
    "            # Guess the schema of the CSV file from the first chunk\n",
    "            parquet_schema = pa.Table.from_pandas(df=chunk).schema\n",
    "            # Open a Parquet file for writing\n",
    "            parquet_writer = pq.ParquetWriter(parquet_file, parquet_schema, compression='snappy')\n",
    "        # Write CSV chunk to the parquet file\n",
    "        table = pa.Table.from_pandas(chunk, schema=parquet_schema)\n",
    "        parquet_writer.write_table(table)\n",
    "\n",
    "    parquet_writer.close()"
   ]
  },
  {
   "cell_type": "code",
   "execution_count": null,
   "id": "88e05133",
   "metadata": {},
   "outputs": [],
   "source": [
    "csv_to_parquet(r'..\\Project\\amex-default-prediction\\test_data.csv',\n",
    "              r'..\\Project\\data\\test_data.parquet')"
   ]
  },
  {
   "cell_type": "code",
   "execution_count": null,
   "id": "157dda2c",
   "metadata": {},
   "outputs": [],
   "source": [
    "csv_to_parquet(r'..\\Project\\amex-default-prediction\\train_data.csv',\n",
    "              r'..\\Project\\data\\train_data.parquet')"
   ]
  },
  {
   "cell_type": "code",
   "execution_count": null,
   "id": "831c634c",
   "metadata": {},
   "outputs": [],
   "source": [
    "csv_to_parquet(r\"..\\Project\\amex-default-prediction\\train_labels.csv\",\n",
    "              r'..\\Project\\data\\train_labels.parquet')"
   ]
  },
  {
   "cell_type": "code",
   "execution_count": 28,
   "id": "ee552665",
   "metadata": {},
   "outputs": [
    {
     "name": "stdout",
     "output_type": "stream",
     "text": [
      "Chunk 0\n",
      "Chunk 1\n",
      "Chunk 2\n",
      "Chunk 3\n",
      "Chunk 4\n",
      "Chunk 5\n",
      "Chunk 6\n",
      "Chunk 7\n",
      "Chunk 8\n",
      "Chunk 9\n"
     ]
    }
   ],
   "source": [
    "csv_to_parquet(r\"..\\Project\\amex-default-prediction\\sample_submission.csv\",\n",
    "              r'..\\Project\\data\\sample_submission.parquet')"
   ]
  }
 ],
 "metadata": {
  "kernelspec": {
   "display_name": "Python 3 (ipykernel)",
   "language": "python",
   "name": "python3"
  },
  "language_info": {
   "codemirror_mode": {
    "name": "ipython",
    "version": 3
   },
   "file_extension": ".py",
   "mimetype": "text/x-python",
   "name": "python",
   "nbconvert_exporter": "python",
   "pygments_lexer": "ipython3",
   "version": "3.7.13"
  }
 },
 "nbformat": 4,
 "nbformat_minor": 5
}
